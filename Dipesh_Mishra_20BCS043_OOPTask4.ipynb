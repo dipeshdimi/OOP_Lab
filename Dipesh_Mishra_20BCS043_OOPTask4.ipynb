{
  "nbformat": 4,
  "nbformat_minor": 0,
  "metadata": {
    "colab": {
      "name": "Dipesh_Mishra_20BCS043_OOPTask4",
      "provenance": []
    },
    "kernelspec": {
      "name": "python3",
      "display_name": "Python 3"
    },
    "language_info": {
      "name": "python"
    }
  },
  "cells": [
    {
      "cell_type": "markdown",
      "metadata": {
        "id": "44UNvD26Or2d"
      },
      "source": [
        "# Problem 1\n",
        "Write a python code to create a class node with data and address of next node as\n",
        "parameters. Derive stack class from node class with top position or head node position as a\n",
        "parameter and also perform the following operations.\n",
        "\n",
        "a. Check stack is empty\n",
        "\n",
        "b. Add data to stack\n",
        "\n",
        "c. Delete data from the stack.\n",
        "\n",
        "d. Display the elements of the stack.\n",
        "\n",
        "e. Deallocate the memory assigned to each node using destructors."
      ]
    },
    {
      "cell_type": "code",
      "metadata": {
        "colab": {
          "base_uri": "https://localhost:8080/"
        },
        "id": "xXBhYcLcOYYk",
        "outputId": "70e73417-5a30-4c2a-9679-8532c3d02813"
      },
      "source": [
        "class Node:\n",
        "    def __init__(self, data, next):\n",
        "        self.data = data\n",
        "        self.next = next\n",
        "\n",
        "    def __del__(self):\n",
        "        print(\"The node with data\", self.data, \" has been deleted.\")\n",
        "\n",
        "class Stack:\n",
        "    def __init__(self):\n",
        "        self.head = None\n",
        "        self.bottom = self.head\n",
        "\n",
        "    def isEmpty(self):\n",
        "        return self.head == None and self.bottom == None\n",
        "\n",
        "    def push(self, data):\n",
        "        pushed_Node = Node(data, None)\n",
        "        if self.isEmpty():\n",
        "            self.head = pushed_Node\n",
        "            self.bottom = self.head\n",
        "        else:\n",
        "            self.bottom.next = pushed_Node\n",
        "            self.bottom = self.bottom.next\n",
        "\n",
        "    def pop(self):\n",
        "        iterator = self.head\n",
        "        while True:\n",
        "            if iterator.next != self.bottom:\n",
        "                iterator = iterator.next\n",
        "            else:\n",
        "                break\n",
        "        data = iterator.next.data\n",
        "        del iterator.next\n",
        "        iterator.next = None\n",
        "        self.bottom = iterator\n",
        "        return data\n",
        "\n",
        "\n",
        "    def Display(self):\n",
        "        iterator = self.head\n",
        "        if not self.isEmpty():\n",
        "            while iterator!=None:\n",
        "                print(iterator.data, end=\" \")\n",
        "                iterator = iterator.next\n",
        "        else:\n",
        "            print(\"Empty Stack\")\n",
        "\n",
        "s = Stack()\n",
        "print('Empty Stack : ', s.isEmpty())\n",
        "s.push(-11)\n",
        "print('Empty Stack : ', s.isEmpty())\n",
        "s.push(32)\n",
        "s.push(36)\n",
        "s.push(49)\n",
        "s.push(-45)\n",
        "print(\"Element Popped = \", s.pop())\n",
        "print(\"Stack Elements -> \", end='')\n",
        "s.Display()"
      ],
      "execution_count": 18,
      "outputs": [
        {
          "output_type": "stream",
          "name": "stdout",
          "text": [
            "The node with data -11  has been deleted.\n",
            "The node with data 32  has been deleted.\n",
            "The node with data 36  has been deleted.\n",
            "The node with data 49  has been deleted.\n",
            "Empty Stack :  True\n",
            "Empty Stack :  False\n",
            "The node with data -45  has been deleted.\n",
            "Element Popped =  -45\n",
            "Stack Elements -> -11 32 36 49 "
          ]
        }
      ]
    },
    {
      "cell_type": "markdown",
      "metadata": {
        "id": "8Pupt_h7SXRi"
      },
      "source": [
        "# Problem 2\n",
        "Write a python code to calculate the area of a rectangle using parametrized and default\n",
        "constructors."
      ]
    },
    {
      "cell_type": "code",
      "metadata": {
        "colab": {
          "base_uri": "https://localhost:8080/"
        },
        "id": "I3qDqO4TTGXy",
        "outputId": "e55c21e3-9e27-45b8-c649-a7f4f53cd919"
      },
      "source": [
        "class Rect:\n",
        "  def __init__(self, len = 10, breadth = 10):\n",
        "    self.l = len\n",
        "    self.b = breadth\n",
        "\n",
        "  def Rect_Area(self):\n",
        "    return self.l*self.b\n",
        "\n",
        "Area = Rect(25, 20)\n",
        "print(\"Area:\", Area.Rect_Area())\n",
        "Area = Rect(15)\n",
        "print(\"Area:\", Area.Rect_Area())\n",
        "Area = Rect()\n",
        "print(\"Area:\", Area.Rect_Area())"
      ],
      "execution_count": 25,
      "outputs": [
        {
          "output_type": "stream",
          "name": "stdout",
          "text": [
            "Area: 500\n",
            "Area: 150\n",
            "Area: 100\n"
          ]
        }
      ]
    },
    {
      "cell_type": "markdown",
      "metadata": {
        "id": "Fb4VH5YwW6Dq"
      },
      "source": [
        "# Problem 3\n",
        "Write a python program to implement queue operations using constructors and destructors.\n",
        "\n",
        "[Note: Destructors are used to deallocate the memory assigned to each node]"
      ]
    },
    {
      "cell_type": "code",
      "metadata": {
        "colab": {
          "base_uri": "https://localhost:8080/"
        },
        "id": "4lqxs0J-XAro",
        "outputId": "c303e4cb-f6e9-464f-cb40-98638f650df4"
      },
      "source": [
        "class Node:\n",
        "    def __init__(self, data, next):\n",
        "        self.data = data\n",
        "        self.next = next\n",
        "\n",
        "    def __del__(self):\n",
        "        print(\"The node with data\", self.data, \" has been deleted.\")\n",
        "\n",
        "class Queue:\n",
        "    def __init__(self):\n",
        "        self.head = None\n",
        "        self.bottom = self.head\n",
        "\n",
        "    def isEmpty(self):\n",
        "        return self.head == None and self.bottom == None\n",
        "\n",
        "    def enqueue(self, data):\n",
        "        enqueued_Node = Node(data, None)\n",
        "        if self.isEmpty():\n",
        "            self.head = enqueued_Node\n",
        "            self.bottom = self.head\n",
        "        else:\n",
        "            enqueued_Node.next = self.head\n",
        "            self.head = enqueued_Node\n",
        "\n",
        "    def dequeue(self):\n",
        "        iterator = self.head\n",
        "        while True:\n",
        "            if iterator.next != self.bottom:\n",
        "                iterator = iterator.next\n",
        "            else:\n",
        "                break\n",
        "        data = iterator.next.data\n",
        "        del iterator.next\n",
        "        iterator.next = None\n",
        "        self.bottom = iterator\n",
        "        return data\n",
        "\n",
        "\n",
        "    def Display(self):\n",
        "        iterator = self.head\n",
        "        if not self.isEmpty():\n",
        "            while iterator!=None:\n",
        "                print(iterator.data, end=' ')\n",
        "                iterator = iterator.next\n",
        "        else:\n",
        "            print(\"Empty Stack\")\n",
        "\n",
        "s = Queue()\n",
        "print('Empty Queue : ', s.isEmpty())\n",
        "s.enqueue(21)\n",
        "print('Empty Queue : ', s.isEmpty())\n",
        "s.enqueue(-4)\n",
        "s.enqueue(32)\n",
        "s.enqueue(41)\n",
        "s.enqueue(15)\n",
        "print(\"Element Popped = \", s.dequeue())\n",
        "print(\"Queue Elements -> \", end='')\n",
        "s.Display()"
      ],
      "execution_count": 28,
      "outputs": [
        {
          "output_type": "stream",
          "name": "stdout",
          "text": [
            "The node with data 5  has been deleted.\n",
            "The node with data 4  has been deleted.\n",
            "The node with data 3  has been deleted.\n",
            "The node with data 2  has been deleted.\n",
            "Empty Queue :  True\n",
            "Empty Queue :  False\n",
            "The node with data 21  has been deleted.\n",
            "Element Popped =  21\n",
            "Queue Elements -> 15 41 32 -4 "
          ]
        }
      ]
    }
  ]
}