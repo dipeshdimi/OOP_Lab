{
  "nbformat": 4,
  "nbformat_minor": 0,
  "metadata": {
    "colab": {
      "name": "Lab Assignment - 1.ipynb",
      "provenance": [],
      "collapsed_sections": []
    },
    "kernelspec": {
      "name": "python3",
      "display_name": "Python 3"
    },
    "language_info": {
      "name": "python"
    }
  },
  "cells": [
    {
      "cell_type": "markdown",
      "metadata": {
        "id": "ZEfFbvvbTvi4"
      },
      "source": [
        "# Problem-I\n",
        "An extra day is added to the calendar almost every four years as February 29, and the day is\n",
        "called a leap day. It corrects the calendar for the fact that our planet takes approximately 365.25\n",
        "days to orbit the sun. A leap year contains a leap day.\n",
        "In the Gregorian calendar, three conditions are used to identify leap years:\n",
        "1. The year can be evenly divided by 4, is a leap year, unless:\n",
        "2. The year can be evenly divided by 100, it is NOT a leap year, unless:\n",
        "3. The year is also evenly divisible by 400. Then it is a leap year.\n",
        "\n",
        "Write function to decide whether it is a leap year. If it is a leap year, return the Boolean True,\n",
        "otherwise return False."
      ]
    },
    {
      "cell_type": "code",
      "metadata": {
        "colab": {
          "base_uri": "https://localhost:8080/"
        },
        "id": "nQl0X_8jUBs4",
        "outputId": "d562763d-17e6-458e-ff93-346daa6736fb"
      },
      "source": [
        "def check_Leap(year):\n",
        "  if (year%4 != 0):\n",
        "    return False\n",
        "  else:\n",
        "    if (year%100 != 0):\n",
        "      return True\n",
        "    elif (year%100 == 0):\n",
        "      if (year%400 == 0):\n",
        "        return True\n",
        "      else:\n",
        "        return False\n",
        "\n",
        "# year = int(input(\"Enter the year: \"))\n",
        "# print(check_Leap(year))\n",
        "\n",
        "print(check_Leap(2020))\n",
        "print(check_Leap(2021))\n",
        "print(check_Leap(3000))\n",
        "print(check_Leap(2400))"
      ],
      "execution_count": 15,
      "outputs": [
        {
          "output_type": "stream",
          "name": "stdout",
          "text": [
            "True\n",
            "False\n",
            "False\n",
            "True\n"
          ]
        }
      ]
    },
    {
      "cell_type": "markdown",
      "metadata": {
        "id": "GjNqsVjqUpCZ"
      },
      "source": [
        "# Problem-II\n",
        "Given an integer ‘n’, write a python code to perform the following conditional actions:\n",
        "1. If ‘n’ is odd, print Weird\n",
        "2. If ‘n’ is even and in the inclusive range of 2 to 5, print Not Weird\n",
        "3. If ‘n’ is even and in the inclusive range of 6 to 20, print Weird\n",
        "4. If ‘n’ is even and greater than 20, print Not Weird"
      ]
    },
    {
      "cell_type": "code",
      "metadata": {
        "colab": {
          "base_uri": "https://localhost:8080/"
        },
        "id": "3LeRAbaqVH8P",
        "outputId": "ac7e9d9e-3f6d-4f41-8568-a139a4045552"
      },
      "source": [
        "def check_Weird(n):\n",
        "  print(n, '-> ', end = '')\n",
        "  if (n%2 != 0):\n",
        "    print(\"Weird\")\n",
        "  else:\n",
        "    if n in range(6, 21):\n",
        "      print(\"Weird\")\n",
        "    else:\n",
        "      print(\"Not Weird\")\n",
        "\n",
        "# n = int(input(\"Enter the integer: \"))\n",
        "# print(check_Weird(n))\n",
        "\n",
        "check_Weird(4)\n",
        "check_Weird(8)\n",
        "check_Weird(28)\n",
        "check_Weird(1)"
      ],
      "execution_count": 17,
      "outputs": [
        {
          "output_type": "stream",
          "name": "stdout",
          "text": [
            "4 -> Not Weird\n",
            "8 -> Weird\n",
            "28 -> Not Weird\n",
            "1 -> Weird\n"
          ]
        }
      ]
    },
    {
      "cell_type": "markdown",
      "metadata": {
        "id": "7Eu0ZUR_ZOjm"
      },
      "source": [
        "# Problem-III\n",
        "The following list represents a party with 7 guests, in which ‘Hardik’ showed up first and ‘Rahane’ was the last to arrive:\n",
        "\n",
        "Arrivals = ['Hardik', 'Rahul', 'Virat', 'Rishabh’, ‘Mahi’ 'Rohit', 'Rahane']\n",
        "\n",
        "A guest is considered 'fashionably late' if they arrived after at least half of the party's guests. However, they must not be the very last guest (that's taking it too far). In the above example, ‘rishabh’, ‘Mahi’ and ‘Rohit’ are the only guests who were fashionably late.\n",
        "\n",
        "Write the function which takes a list of party attendees as well as a person, and tells us whether that person is fashionably late."
      ]
    },
    {
      "cell_type": "code",
      "metadata": {
        "colab": {
          "base_uri": "https://localhost:8080/"
        },
        "id": "NxRgFGYnZXds",
        "outputId": "2f8441ff-1621-429f-f953-8e8c23d9d06a"
      },
      "source": [
        "def fashionably_Late(Arrivals, guest):\n",
        "  if guest in Arrivals[len(Arrivals)//2: -1]:\n",
        "    print(guest, \"-> Fashionably Late\")\n",
        "  else:\n",
        "    print(guest, \"-> Not Fashionably Late\")\n",
        "\n",
        "Arrivals = [\"Hardik\", \"Rahul\", \"Virat\", \"Rishabh\", \"Mahi\", \"Rohit\", \"Rahane\"]\n",
        "\n",
        "# fashionably_Late(Arrivals, input(\"Enter the guest name: \"))\n",
        "\n",
        "fashionably_Late(Arrivals, \"Hardik\")\n",
        "fashionably_Late(Arrivals, \"Rahul\")\n",
        "fashionably_Late(Arrivals, \"Virat\")\n",
        "fashionably_Late(Arrivals, \"Rishabh\")\n",
        "fashionably_Late(Arrivals, \"Mahi\")\n",
        "fashionably_Late(Arrivals, \"Rohit\")\n",
        "fashionably_Late(Arrivals, \"Rahane\")"
      ],
      "execution_count": 27,
      "outputs": [
        {
          "output_type": "stream",
          "name": "stdout",
          "text": [
            "Hardik -> Not Fashionably Late\n",
            "Rahul -> Not Fashionably Late\n",
            "Virat -> Not Fashionably Late\n",
            "Rishabh -> Fashionably Late\n",
            "Mahi -> Fashionably Late\n",
            "Rohit -> Fashionably Late\n",
            "Rahane -> Not Fashionably Late\n"
          ]
        }
      ]
    },
    {
      "cell_type": "markdown",
      "metadata": {
        "id": "MbBjLfdJcLs0"
      },
      "source": [
        "# Problem-IV\n",
        "A researcher has gathered thousands of news articles. But she wants to focus her attention on\n",
        "articles including a specific word. Write a function to help her filter her list of articles.\n",
        "Your function should meet the following criteria:\n",
        "1. Do not include documents where the keyword string shows up only as a part of a larger\n",
        "word. For example, if she were looking for the keyword “closed”, you would not include\n",
        "the string “enclosed.”\n",
        "2. She does not want you to distinguish upper case from lower case letters. So the phrase\n",
        "“Closed the case.” would be included when the keyword is “closed”\n",
        "3. Do not let periods or commas affect what is matched. “It is closed.” would be included\n",
        "when the keyword is “closed”. But you can assume there are no other types of\n",
        "punctuation.\n",
        "\n",
        "Assume, doc_list = [&quot;The Learn Python Challenge Rohit.&quot;, &quot;They bought a car&quot;, &quot;bangalore&quot;]"
      ]
    },
    {
      "cell_type": "code",
      "metadata": {
        "colab": {
          "base_uri": "https://localhost:8080/"
        },
        "id": "8W9OS6yGcXeK",
        "outputId": "a5571dcc-6b72-4082-a84e-dc239e8c0fec"
      },
      "source": [
        "def article_filter(doc_list, word):\n",
        "    filtered_articles = []\n",
        "    for article in doc_list:\n",
        "        keywords = [i.lower().strip('.,') for i in article.split()]\n",
        "        if word.lower() in keywords:\n",
        "            filtered_articles.append(article)\n",
        "    return filtered_articles\n",
        "\n",
        "doc_list = [\"The Learn Python Challenge Rohit.\", \"They bought a car\", \"bangalore\"]\n",
        "\n",
        "# print(article_filter(doc_list, input(\"Enter the word to be searched: \")))\n",
        "\n",
        "print(article_filter(doc_list,'Bought'))\n",
        "print(article_filter(doc_list,'rohit'))\n",
        "print(article_filter(doc_list,'A'))\n",
        "print(article_filter(doc_list,'bAnGaLorE'))"
      ],
      "execution_count": 37,
      "outputs": [
        {
          "output_type": "stream",
          "name": "stdout",
          "text": [
            "['They bought a car']\n",
            "['The Learn Python Challenge Rohit.']\n",
            "['They bought a car']\n",
            "['bangalore']\n"
          ]
        }
      ]
    },
    {
      "cell_type": "markdown",
      "metadata": {
        "id": "bDUiIGuLdVMv"
      },
      "source": [
        "# Problem-V\n",
        "An Employee&#39;s Basic Pay (BP) is to be read from user. DA is 40% of BP, HRA is 20% of BP,\n",
        "and write a function to calculate the Gross Pay (GP) GP is computed as BP + DA + HRA."
      ]
    },
    {
      "cell_type": "code",
      "metadata": {
        "colab": {
          "base_uri": "https://localhost:8080/"
        },
        "id": "HLxU9INydYVH",
        "outputId": "5a42a1ab-8850-42e3-9b72-0c03b973eedf"
      },
      "source": [
        "def GP_Calculator(BP):\n",
        "    DA = (40/100) * BP\n",
        "    HRA = (20/100) * BP\n",
        "    GP = BP + DA + HRA\n",
        "    return GP\n",
        "\n",
        "BP = float(input(\"Enter Employee's Basic Pay (BP) = \"))\n",
        "print(\"Gross Pay (GP) = \",GP_Calculator(BP))"
      ],
      "execution_count": 36,
      "outputs": [
        {
          "output_type": "stream",
          "name": "stdout",
          "text": [
            "Enter Employee's Basic Pay (BP) = 5000.5\n",
            "Gross Pay (GP) =  8000.8\n"
          ]
        }
      ]
    }
  ]
}