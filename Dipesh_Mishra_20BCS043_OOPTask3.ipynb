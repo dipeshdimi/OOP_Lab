{
  "nbformat": 4,
  "nbformat_minor": 0,
  "metadata": {
    "colab": {
      "name": "Dipesh_Mishra_20BCS043_OOPTask3",
      "provenance": []
    },
    "kernelspec": {
      "name": "python3",
      "display_name": "Python 3"
    },
    "language_info": {
      "name": "python"
    }
  },
  "cells": [
    {
      "cell_type": "markdown",
      "metadata": {
        "id": "44UNvD26Or2d"
      },
      "source": [
        "# Problem 1\n",
        "Write a python program to demonstrate the inheritance principle of OOP. Create a\n",
        "Student class that includes student’s basic information : Name, Reg no, Age, Gender,\n",
        "Branch, Sem. Define functions to read and display basic information. Create a new class\n",
        "StudentResultInfo that inherits from Student class. Derived class will include student’s\n",
        "total marks, percentage and grade. Display student’s basic information and result\n",
        "information using derived class."
      ]
    },
    {
      "cell_type": "code",
      "metadata": {
        "colab": {
          "base_uri": "https://localhost:8080/"
        },
        "id": "xXBhYcLcOYYk",
        "outputId": "776d763d-e446-431f-a6d1-8f099bd03bc1"
      },
      "source": [
        "class Student:\n",
        "  def __init__(self):\n",
        "    self.Name = input(\"Enter Student's Name : \")\n",
        "    self.Reg_Num = input(\"Enter Student's Registration Number : \")\n",
        "    self.Age = int(input(\"Enter Student's Age : \"))\n",
        "    self.Gender = input(\"Enter Student's Gender : \")\n",
        "    self.Branch = input(\"Enter Students Branch : \")\n",
        "    self.Sem = int(input(\"Enter Student's Current Semester (1/2/3/4/5/6/7/8) : \"))\n",
        "\n",
        "  def Student_Basic_Info(self):\n",
        "    print(\"\\n*************************** Basic Info ***************************\")\n",
        "    print(\"Name : \", self.Name)\n",
        "    print(\"Registration Number : \", self.Reg_Num)\n",
        "    print(\"Age : \", self.Age)\n",
        "    print(\"Gender : \", self.Gender)\n",
        "    print(\"Branch : \", self.Branch)\n",
        "    print(\"Semester : \", self.Sem)\n",
        "\n",
        "class StudentResultInfo(Student):\n",
        "  def __init__(self):\n",
        "    Student.__init__(self)\n",
        "    self.marks = int(input(\"Enter Student's Marks : \"))\n",
        "    self.percentage = float(input(\"Enter Student's Percentage: \"))\n",
        "    self.grade = input(\"Enter Student's Grade : \")\n",
        "\n",
        "  def Display_Result(self):\n",
        "    print(\"\\n*************************** Result Info ***************************\")\n",
        "    print(\"Marks: \", self.marks)\n",
        "    print(\"Percentage: \", self.percentage)\n",
        "    print(\"Grade: \", self.grade)\n",
        "\n",
        "result = StudentResultInfo()\n",
        "result.Student_Basic_Info()\n",
        "result.Display_Result()"
      ],
      "execution_count": 1,
      "outputs": [
        {
          "output_type": "stream",
          "name": "stdout",
          "text": [
            "Enter Student's Name : Dipesh Mishra\n",
            "Enter Student's Registration Number : 20bcs043\n",
            "Enter Student's Age : 19\n",
            "Enter Student's Gender : Male\n",
            "Enter Students Branch : CSE\n",
            "Enter Student's Current Semester (1/2/3/4/5/6/7/8) : 3\n",
            "Enter Student's Marks : 92\n",
            "Enter Student's Percentage: 92\n",
            "Enter Student's Grade : A\n",
            "\n",
            "*************************** Basic Info ***************************\n",
            "Name :  Dipesh Mishra\n",
            "Registration Number :  20bcs043\n",
            "Age :  19\n",
            "Gender :  Male\n",
            "Branch :  CSE\n",
            "Semester :  3\n",
            "\n",
            "*************************** Result Info ***************************\n",
            "Marks:  92\n",
            "Percentage:  92.0\n",
            "Grade:  A\n"
          ]
        }
      ]
    },
    {
      "cell_type": "markdown",
      "metadata": {
        "id": "8Pupt_h7SXRi"
      },
      "source": [
        "# Problem 2\n",
        "Imagine you&#39;re writing a Content Management system - this system will store two types\n",
        "of documents.\n",
        "\n",
        " PDFs (who created, description, file size)\n",
        "\n",
        " Pictures (who created, description, image dimensions, file size)\n",
        "Imagine you&#39;re now asked to add a few features :-\n",
        "\n",
        "o Checking to see whether the file size is beyond a certain threshold.\n",
        "\n",
        "o Display the details of document.\n",
        "\n",
        "o Checking to see whether it&#39;s too high of dimension of picture.\n",
        "\n",
        "Note: Use inheritance concept to reduce length of code."
      ]
    },
    {
      "cell_type": "code",
      "metadata": {
        "colab": {
          "base_uri": "https://localhost:8080/"
        },
        "id": "I3qDqO4TTGXy",
        "outputId": "749d5522-cd72-45b3-c428-ec618e8a5465"
      },
      "source": [
        "class PDF:\n",
        "  def __init__(self, Author, Description, File_Size):\n",
        "    self.author = Author\n",
        "    self.description = Description\n",
        "    self.file_size = File_Size\n",
        "\n",
        "  def Excess_Size_Check(self):\n",
        "    print(\"\\n*************************** Threshold Check ***************************\")\n",
        "    if self.file_size > 10 :\n",
        "      print(\"Large file: File size exceeds 10 MB\")\n",
        "    else:\n",
        "      print(\"File size under 10 MB\")\n",
        "\n",
        "  def Details(self):\n",
        "    print(\"\\n*************************** File Info ***************************\")\n",
        "    print(\"Author: \", self.author)\n",
        "    print(\"Description: \", self.description)\n",
        "    print(\"File Size: \", self.file_size, \"MB\")\n",
        "\n",
        "class Picture(PDF):\n",
        "  def __init__(self, Author, Description, File_Size, Image_Dimensions : list):\n",
        "    PDF.__init__(self, Author, Description, File_Size)\n",
        "    self.dimensions = Image_Dimensions\n",
        "\n",
        "  def Details(self):\n",
        "    PDF.Details(self)\n",
        "    print(\"Dimensions: \", self.dimensions[0], \"x\" , self.dimensions[0])\n",
        "\n",
        "  def Dimension_Check(self):\n",
        "    print(\"\\n*************************** Dimension Check ***************************\")\n",
        "    if (self.dimensions[0]>125 or self.dimensions[1]>125):\n",
        "      print(\"Picture Dimensions exceeds 125 x 125\")\n",
        "    else:\n",
        "      print(\"Picture within 125 x 125 dimensions\")\n",
        "\n",
        "\n",
        "print(\"\\n############################## PDF ##############################\")\n",
        "pdf = PDF(\"Dipesh Mishra\", \"OOP Lab Assignment 3\", 5.76)\n",
        "pdf.Details()\n",
        "pdf.Excess_Size_Check()\n",
        "\n",
        "print(\"\\n############################## Picture ##############################\")\n",
        "\n",
        "Pic = Picture(\"20bcs043\", \"OOP Lab Task III\", 11.47, [111, 121])\n",
        "Pic.Details()\n",
        "Pic.Excess_Size_Check()\n",
        "Pic.Dimension_Check()"
      ],
      "execution_count": 6,
      "outputs": [
        {
          "output_type": "stream",
          "name": "stdout",
          "text": [
            "\n",
            "############################## PDF ##############################\n",
            "\n",
            "*************************** File Info ***************************\n",
            "Author:  Dipesh Mishra\n",
            "Description:  OOP Lab Assignment 3\n",
            "File Size:  5.76 MB\n",
            "\n",
            "*************************** Threshold Check ***************************\n",
            "File size under 10 MB\n",
            "\n",
            "############################## Picture ##############################\n",
            "\n",
            "*************************** File Info ***************************\n",
            "Author:  20bcs043\n",
            "Description:  OOP Lab Task III\n",
            "File Size:  11.47 MB\n",
            "Dimensions:  111 x 111\n",
            "\n",
            "*************************** Threshold Check ***************************\n",
            "Large file: File size exceeds 10 MB\n",
            "\n",
            "*************************** Dimension Check ***************************\n",
            "Picture within 125 x 125 dimensions\n"
          ]
        }
      ]
    },
    {
      "cell_type": "markdown",
      "metadata": {
        "id": "Fb4VH5YwW6Dq"
      },
      "source": [
        "# Problem 3\n",
        "Create vehicle class with data member’s name, mileage and capacity and member\n",
        "function bus fare. Create a Bus child class that inherits from the Vehicle class. The\n",
        "default fare charge of any vehicle is seating capacity * 100. If Vehicle is Bus instance,\n",
        "we need to add an extra 10% on full fare as a maintenance charge. So total fare for bus\n",
        "instance will become the final amount = total fare + 10% of the total fare.\n",
        "Note: The bus seating capacity is 50."
      ]
    },
    {
      "cell_type": "code",
      "metadata": {
        "colab": {
          "base_uri": "https://localhost:8080/"
        },
        "id": "4lqxs0J-XAro",
        "outputId": "86f6890d-760a-44eb-f921-8760b8c2d1e0"
      },
      "source": [
        "class Vehicle:\n",
        "  def __init__(self, name, mileage, capacity):\n",
        "    self.name = name\n",
        "    self.mileage = mileage\n",
        "    self.capacity = capacity\n",
        "\n",
        "  def Fare(self):\n",
        "    print(\"Fare = \", self.capacity*100)\n",
        "    return self.capacity*100\n",
        "\n",
        "class Bus:\n",
        "  def __init__(self, name, mileage, capacity):\n",
        "    Vehicle.__init__(self, name, mileage, capacity)\n",
        "\n",
        "  def Fare(self):\n",
        "    fee = Vehicle.Fare(self)\n",
        "    maintenance = 0.1 * fee\n",
        "    print(\"Maintenance Fee = \", maintenance)\n",
        "    print(\"Total fare = \", fee + maintenance)\n",
        "    return (fee + maintenance)\n",
        "\n",
        "XYZ_Bus = Bus(\"XYZ_Bus\", 25, 60)\n",
        "XYZ_Bus.Fare()"
      ],
      "execution_count": 9,
      "outputs": [
        {
          "output_type": "stream",
          "name": "stdout",
          "text": [
            "Fare =  6000\n",
            "Maintenance Fee =  600.0\n",
            "Total fare =  6600.0\n"
          ]
        },
        {
          "output_type": "execute_result",
          "data": {
            "text/plain": [
              "6600.0"
            ]
          },
          "metadata": {},
          "execution_count": 9
        }
      ]
    }
  ]
}