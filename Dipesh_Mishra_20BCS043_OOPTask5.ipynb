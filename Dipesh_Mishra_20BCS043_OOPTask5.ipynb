{
  "nbformat": 4,
  "nbformat_minor": 0,
  "metadata": {
    "colab": {
      "name": "Dipesh_Mishra_20BCS043_OOPTask5.ipynb",
      "provenance": []
    },
    "kernelspec": {
      "name": "python3",
      "display_name": "Python 3"
    },
    "language_info": {
      "name": "python"
    }
  },
  "cells": [
    {
      "cell_type": "markdown",
      "metadata": {
        "id": "KNc7HKg-r3n8"
      },
      "source": [
        "#Problem 1\n",
        "Write a Python programme to create the parent class shape, derive the subclasses circle,\n",
        "square, and rectangle from the class shape, and demonstrate polymorphism in inheritance\n",
        "using a member function area ()."
      ]
    },
    {
      "cell_type": "code",
      "metadata": {
        "colab": {
          "base_uri": "https://localhost:8080/"
        },
        "id": "b2qc74WFqZrc",
        "outputId": "59f0088f-87ba-41e2-8289-7b1c3c2bd11a"
      },
      "source": [
        "from abc import ABC, abstractmethod\n",
        "from math import pi\n",
        "\n",
        "class Shape(ABC):\n",
        "  \n",
        "  @abstractmethod\n",
        "  def Area():\n",
        "    pass\n",
        "\n",
        "class Circle(Shape):\n",
        "  def __init__(self, radius):\n",
        "    self.radius = radius\n",
        "\n",
        "  def Area(self):\n",
        "    return pi*self.radius**2\n",
        "\n",
        "class Square(Shape):\n",
        "  def __init__(self, side):\n",
        "    self.side = side\n",
        "\n",
        "  def Area(self):\n",
        "    return self.side**2\n",
        "\n",
        "class Rectangle(Shape):\n",
        "  def __init__(self, length, breadth):\n",
        "    self.l = length\n",
        "    self.b = breadth\n",
        "\n",
        "  def Area(self):\n",
        "    return self.l*self.b\n",
        "\n",
        "Cir = Circle(int(input('Enter radius of the Circle = ')))\n",
        "print('Area of the given Circle = ', Cir.Area(), 'sq units\\n')\n",
        "\n",
        "Sq = Square(int(input('Enter side length of the Square = ')))\n",
        "print('Area of the given Square = ', Sq.Area(), 'sq units\\n')\n",
        "\n",
        "Rect = Rectangle(int(input('Enter radius of the Circle = ')), int(input('Enter radius of the Circle = ')))\n",
        "print('Area of the given Rectangle = ', Rect.Area(), 'sq units\\n')\n"
      ],
      "execution_count": 14,
      "outputs": [
        {
          "output_type": "stream",
          "name": "stdout",
          "text": [
            "Enter radius of the Circle = 15\n",
            "Area of the given Circle =  706.8583470577034 sq units\n",
            "\n",
            "Enter side length of the Square = 20\n",
            "Area of the given Square =  400 sq units\n",
            "\n",
            "Enter radius of the Circle = 30\n",
            "Enter radius of the Circle = 25\n",
            "Area of the given Rectangle =  750 sq units\n",
            "\n"
          ]
        }
      ]
    },
    {
      "cell_type": "markdown",
      "metadata": {
        "id": "B9DSPuobugEn"
      },
      "source": [
        "# Problem 2\n",
        "The family has decided to travel by road from Dharwad to Belagavi, and they have\n",
        "chosen to estimate the cost before starting on this journey. Write python code to create\n",
        "the parent class Travel with member functions include the number of passengers, the\n",
        "distance travelled, and the mode of transportation. Derive two subclasses, train and bus,\n",
        "from the parent class, each with a member function that calculates the cost of trip. Also,\n",
        "keep the numbers of passengers as a private member of the parent class and try to access\n",
        "it through the child class to estimate costs.\n",
        "[Note: Assume cost of travelling/person through train = 60 rs, cost of travelling /person\n",
        "through bus= 100 rs]."
      ]
    },
    {
      "cell_type": "code",
      "metadata": {
        "id": "RFEzOrEnugnW",
        "colab": {
          "base_uri": "https://localhost:8080/"
        },
        "outputId": "d49fab7d-3ede-49b3-ddd7-158932bc5539"
      },
      "source": [
        "\n",
        "from abc import ABC, abstractmethod\n",
        "\n",
        "class Travel():\n",
        "  def __init__(self, Num_of_Passengers, Distance, Transportation_Mode):\n",
        "    self.__num = Num_of_Passengers\n",
        "    self.dist = Distance\n",
        "    self.mode = Transportation_Mode\n",
        "\n",
        "  def access_num(self):\n",
        "    return self.__num\n",
        "\n",
        "  @abstractmethod\n",
        "  def Calculate_Cost(self):\n",
        "    pass\n",
        "\n",
        "class Train(Travel):\n",
        "  def __init__(self, Num_of_Passengers, Distance, Transportation_Mode):\n",
        "    super().__init__(Num_of_Passengers, Distance, Transportation_Mode)\n",
        "\n",
        "  def Calculate_Cost(self):\n",
        "    return 60*self.access_num()\n",
        "\n",
        "\n",
        "class Bus(Travel):\n",
        "  def __init__(self, Num_of_Passengers, Distance, Transportation_Mode):\n",
        "    super().__init__(Num_of_Passengers, Distance, Transportation_Mode)\n",
        "\n",
        "  def Calculate_Cost(self):\n",
        "    return 100*self.access_num()\n",
        "\n",
        "\n",
        "Dharwad_To_Belagavi = float(input('Enter the distance between Dharwad and Belagavi (km) = '))\n",
        "Num_of_Passengers = int(input('Enter the number of Passengers = '))\n",
        "\n",
        "Train_Trip = Train(Num_of_Passengers, Dharwad_To_Belagavi, 'Train')\n",
        "print(\"\\nCost to travel by the Train = Rs\", Train_Trip.Calculate_Cost())\n",
        "\n",
        "Bus_Trip = Bus(Num_of_Passengers, Dharwad_To_Belagavi, 'Bus')\n",
        "print(\"Cost to travel by the Bus = Rs\", Bus_Trip.Calculate_Cost())"
      ],
      "execution_count": 12,
      "outputs": [
        {
          "output_type": "stream",
          "name": "stdout",
          "text": [
            "Enter the distance between Dharwad and Belagavi (km) = 75\n",
            "Enter the number of Passengers = 17\n",
            "\n",
            "Cost to travel by the Train = Rs 1020\n",
            "Cost to travel by the Bus = Rs 1700\n"
          ]
        }
      ]
    },
    {
      "cell_type": "markdown",
      "metadata": {
        "id": "gaV94NZ01GGX"
      },
      "source": [
        "# Problem 3\n",
        "Assume that there a class Car with model number as its member variable. Write a python\n",
        "program to swap the values of model number in Car objects c1 and c2."
      ]
    },
    {
      "cell_type": "code",
      "metadata": {
        "colab": {
          "base_uri": "https://localhost:8080/"
        },
        "id": "lDTLDaVovyY5",
        "outputId": "8d8aac6c-4595-454e-a820-fdca3bdafaad"
      },
      "source": [
        "class Car:\n",
        "    def __init__(self, Model_Num):\n",
        "        self.Model_Num = Model_Num\n",
        "    \n",
        "    def Set_Num(self, Model_Num):\n",
        "        self.Model_Num = Model_Num\n",
        "\n",
        "def Swap_Num(obj1, obj2):\n",
        "    temp = obj1.Model_Num\n",
        "    obj1.Set_Num(obj2.Model_Num)\n",
        "    obj2.Set_Num(temp)\n",
        "\n",
        "c1 = Car(input('Enter the Model Number of Car c1 :'))\n",
        "c2 = Car(input('Enter the Model Number of Car c1 :'))\n",
        "\n",
        "print(\"\\nBEFORE SWAPPING :-\\n\\tc1's Model Number = {0}\\n\\tc2's Model Number = {1}\".format(c1.Model_Num, c2.Model_Num))\n",
        "Swap_Num(c1, c2)\n",
        "print(\"\\nAFTER SWAPPING :-\\n\\tc1's Model Number = {0}\\n\\tc2's Model Number = {1}\".format(c1.Model_Num, c2.Model_Num))"
      ],
      "execution_count": 11,
      "outputs": [
        {
          "output_type": "stream",
          "name": "stdout",
          "text": [
            "Enter the Model Number of Car c1 :HR-7392\n",
            "Enter the Model Number of Car c1 :DL-2287\n",
            "\n",
            "BEFORE SWAPPING :-\n",
            "\tc1's Model Number = HR-7392\n",
            "\tc2's Model Number = DL-2287\n",
            "\n",
            "AFTER SWAPPING :-\n",
            "\tc1's Model Number = DL-2287\n",
            "\tc2's Model Number = HR-7392\n"
          ]
        }
      ]
    }
  ]
}