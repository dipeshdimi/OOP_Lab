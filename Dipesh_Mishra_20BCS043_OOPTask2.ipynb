{
  "nbformat": 4,
  "nbformat_minor": 0,
  "metadata": {
    "colab": {
      "name": "Dipesh_Mishra_20BCS043_OOPTask2",
      "provenance": [],
      "collapsed_sections": []
    },
    "kernelspec": {
      "name": "python3",
      "display_name": "Python 3"
    },
    "language_info": {
      "name": "python"
    }
  },
  "cells": [
    {
      "cell_type": "markdown",
      "metadata": {
        "id": "eBJLo6lrb4zE"
      },
      "source": [
        "<a href=\"https://colab.research.google.com/github/siddhantdixit/OOP-ClassWork/blob/main/OOP-Lab-Assignment/SiddhantDixit_20bcs123_OOPTask2.ipynb\" target=\"_parent\"><img src=\"https://colab.research.google.com/assets/colab-badge.svg\" alt=\"Open In Colab\"/></a>"
      ]
    },
    {
      "cell_type": "markdown",
      "metadata": {
        "id": "AdYlWul9BiST"
      },
      "source": [
        "# Problem 1\n",
        "Create a python class circle, constructed by a radius and two methods that will\n",
        "compute the area and the perimeter of a circle."
      ]
    },
    {
      "cell_type": "code",
      "metadata": {
        "colab": {
          "base_uri": "https://localhost:8080/",
          "height": 0
        },
        "id": "wBeFvQ_nBNBB",
        "outputId": "cdbc5f4c-05de-4a0f-dd06-0cd30c3510ba"
      },
      "source": [
        "import math\n",
        "class Circle:\n",
        "  def __init__(self, radius):\n",
        "    self.radius = radius\n",
        "  \n",
        "  def Area(self)->float:\n",
        "    return math.pi*((self.radius)**2)\n",
        "  \n",
        "  def Perimeter(self)->float:\n",
        "    return 2*(math.pi)*self.radius\n",
        "  \n",
        "rad = float(input(\"Enter the radius : \"))\n",
        "circ = Circle(rad)\n",
        "print(\"Area of Circle : \",circ.Area())\n",
        "print(\"Area of Perimeter : \",circ.Perimeter())"
      ],
      "execution_count": 1,
      "outputs": [
        {
          "output_type": "stream",
          "name": "stdout",
          "text": [
            "Enter the radius : 10\n",
            "Area of Circle :  314.1592653589793\n",
            "Area of Perimeter :  62.83185307179586\n"
          ]
        }
      ]
    },
    {
      "cell_type": "markdown",
      "metadata": {
        "id": "LEWRCKx3BmDr"
      },
      "source": [
        "# Problem 2\n",
        "Write a python program to enter the data of 5 teaching faculty and display it. (Data\n",
        "of a Faculty: Name, Emp ID, Branch, Salary)."
      ]
    },
    {
      "cell_type": "code",
      "metadata": {
        "colab": {
          "base_uri": "https://localhost:8080/",
          "height": 0
        },
        "id": "LH9dcirLBarb",
        "outputId": "9c2ea26b-6595-44b0-f22e-072bab217360"
      },
      "source": [
        "class Faculty:\n",
        "    def __init__(self, Name, Emp_ID, Branch, Salary):\n",
        "        self.Name = Name\n",
        "        self.Emp_ID = Emp_ID\n",
        "        self.Branch = Branch\n",
        "        self.Salary = Salary\n",
        "    \n",
        "\n",
        "Faculty_List = []\n",
        "\n",
        "i=1\n",
        "while i<6:\n",
        "    print(f\"\\n*************************** Faculty {i} ***************************\")\n",
        "    \n",
        "    Name = input(\"Enter Faculty's name : \")\n",
        "    Emp_ID = int(input(\"Enter Faculty's Employee ID : \"))\n",
        "    Branch = input(\"Enter Faculty's Branch of Specialisation : \")\n",
        "    Salary = input(\"Enter Facculty's Salary (in Rs) : \")\n",
        "    Faculty_Obj = Faculty(Name, Emp_ID, Branch, Salary)\n",
        "    Faculty_List.append(Faculty_Obj)\n",
        "\n",
        "    i+=1\n",
        "\n",
        "print(\"\\n\\n############################## Faculty Details ##############################\")\n",
        "for member in Faculty_List:\n",
        "    print(member.Name, member.Emp_ID, member.Branch, member.Salary)"
      ],
      "execution_count": 12,
      "outputs": [
        {
          "output_type": "stream",
          "name": "stdout",
          "text": [
            "\n",
            "*************************** Faculty 1 ***************************\n",
            "Enter Faculty's name : Aman\n",
            "Enter Faculty's Employee ID : 123\n",
            "Enter Faculty's Branch of Specialisation : CSE\n",
            "Enter Facculty's Salary (in Rs) : 20000\n",
            "\n",
            "*************************** Faculty 2 ***************************\n",
            "Enter Faculty's name : Naman\n",
            "Enter Faculty's Employee ID : 345\n",
            "Enter Faculty's Branch of Specialisation : DSAI\n",
            "Enter Facculty's Salary (in Rs) : 25000\n",
            "\n",
            "*************************** Faculty 3 ***************************\n",
            "Enter Faculty's name : Raman\n",
            "Enter Faculty's Employee ID : 567\n",
            "Enter Faculty's Branch of Specialisation : ECE\n",
            "Enter Facculty's Salary (in Rs) : 23000\n",
            "\n",
            "*************************** Faculty 4 ***************************\n",
            "Enter Faculty's name : Gagan\n",
            "Enter Faculty's Employee ID : 678\n",
            "Enter Faculty's Branch of Specialisation : Civil\n",
            "Enter Facculty's Salary (in Rs) : 18000\n",
            "\n",
            "*************************** Faculty 5 ***************************\n",
            "Enter Faculty's name : Pavan\n",
            "Enter Faculty's Employee ID : 890\n",
            "Enter Faculty's Branch of Specialisation : Mechanical\n",
            "Enter Facculty's Salary (in Rs) : 24000\n",
            "\n",
            "\n",
            "############################## Faculty Details ##############################\n",
            "Aman 123 CSE 20000\n",
            "Naman 345 DSAI 25000\n",
            "Raman 567 ECE 23000\n",
            "Gagan 678 Civil 18000\n",
            "Pavan 890 Mechanical 24000\n"
          ]
        }
      ]
    },
    {
      "cell_type": "markdown",
      "metadata": {
        "id": "biaF_SA4Bo9q"
      },
      "source": [
        "# Problem 3\n",
        "Write a python program to demonstrate the working of the banking system.\n",
        "\n",
        "a. Create account class with data members (Account No, Account holder name,\n",
        "Amount)\n",
        "\n",
        "b. Crete constructor to initialize data members.\n",
        "\n",
        "c. Create member functions (Deposit, withdraw, check balance, and display account\n",
        "details)"
      ]
    },
    {
      "cell_type": "code",
      "metadata": {
        "colab": {
          "base_uri": "https://localhost:8080/",
          "height": 0
        },
        "id": "lb52sA3VBcfi",
        "outputId": "4dc6ed00-4b07-4794-b450-c537e6b9b4b5"
      },
      "source": [
        "class BankingSys:\n",
        "\n",
        "    def __init__(self,number,holder,amout):\n",
        "        self.acc_num = number\n",
        "        self.holder_name = holder\n",
        "        self.__bank_balance = amout\n",
        "\n",
        "    def deposit(self,amount):\n",
        "        self.__bank_balance += amount\n",
        "        print(f\"Amount {amount} succesfully deposited.\")\n",
        "        print(f\"Updated Bank Balance: {self.__bank_balance}.\")\n",
        "\n",
        "    def withdraw(self,amount):\n",
        "        self.__bank_balance -= amount\n",
        "        print(f\"Amount {amount} has been succesfully withdraw.\")\n",
        "        print(f\"Updated Bank Balance: {self.__bank_balance}.\")\n",
        "\n",
        "    def check_balance(self):\n",
        "        print(f\"Your Current Balance: {self.__bank_balance}.\")\n",
        "\n",
        "    def acc_details(self):\n",
        "        print(f\"BANK NO. {self.acc_num}.\")\n",
        "        print(f\"ACCOUNT HOLDER NAME {self.holder_name}.\")\n",
        "        print(f\"BANK BALANCE {self.__bank_balance}.\")\n",
        "\n",
        "\n",
        "user_1 = BankingSys(4525,\"Rohit\",10000)\n",
        "user_1.deposit(450)\n",
        "user_1.withdraw(150)\n",
        "user_1.check_balance()\n",
        "user_1.acc_details()\n",
        "\n",
        "user_2 = BankingSys(8212,\"Ajan\",10000)\n",
        "user_2.deposit(5000)\n",
        "user_2.withdraw(4000)\n",
        "user_2.check_balance()\n",
        "user_1.acc_details()"
      ],
      "execution_count": 13,
      "outputs": [
        {
          "output_type": "stream",
          "name": "stdout",
          "text": [
            "Amount 450 succesfully deposited.\n",
            "Updated Bank Balance: 10450.\n",
            "Amount 150 has been succesfully withdraw.\n",
            "Updated Bank Balance: 10300.\n",
            "Your Current Balance: 10300.\n",
            "BANK NO. 4525.\n",
            "ACCOUNT HOLDER NAME Rohit.\n",
            "BANK BALANCE 10300.\n",
            "Amount 5000 succesfully deposited.\n",
            "Updated Bank Balance: 15000.\n",
            "Amount 4000 has been succesfully withdraw.\n",
            "Updated Bank Balance: 11000.\n",
            "Your Current Balance: 11000.\n",
            "BANK NO. 4525.\n",
            "ACCOUNT HOLDER NAME Rohit.\n",
            "BANK BALANCE 10300.\n"
          ]
        }
      ]
    },
    {
      "cell_type": "markdown",
      "metadata": {
        "id": "terB-tdZBw-T"
      },
      "source": [
        "# Problem 4\n",
        "Write a python program to store and display the student name, USN, and marks of a\n",
        "student. Use the list to store the marks of a student in three subjects."
      ]
    },
    {
      "cell_type": "code",
      "metadata": {
        "colab": {
          "base_uri": "https://localhost:8080/",
          "height": 0
        },
        "id": "LhJBYRBCBgby",
        "outputId": "f7abbd17-d811-4d5e-abca-e5050575be45"
      },
      "source": [
        "class students:\n",
        "    \n",
        "    def __init__(self, name):\n",
        "        self.name = name\n",
        "        self.marks = []\n",
        "        \n",
        "    def Marks(self):\n",
        "        for i in range(3):\n",
        "            m = int(input(\"Enter the marks of %s in %d subject: \"%(self.name, i+1)))\n",
        "            self.marks.append(m)\n",
        "            \n",
        "    def display_marks(self):\n",
        "      usn = (input(\"please enter your USN: \"))\n",
        "      print (self.name, \"got \", self.marks)\n",
        "      print(\"%s's USN is %s\"%(self.name,usn))\n",
        "             \n",
        "name = input(\"Enter the name of Student:\")\n",
        "s1 = students(name)\n",
        "s1.Marks()\n",
        "s1.display_marks()\n",
        "print (\"\\n\")\n",
        "name = input(\"Enter the name of Student:\")\n",
        "s2 = students(name)\n",
        "s2.Marks()\n",
        "s2.display_marks()"
      ],
      "execution_count": 14,
      "outputs": [
        {
          "output_type": "stream",
          "name": "stdout",
          "text": [
            "Enter the name of Student:Dipesh\n",
            "Enter the marks of Dipesh in 1 subject: 89\n",
            "Enter the marks of Dipesh in 2 subject: 79\n",
            "Enter the marks of Dipesh in 3 subject: 94\n",
            "please enter your USN: 20bcs043\n",
            "Dipesh got  [89, 79, 94]\n",
            "Dipesh's USN is 20bcs043\n",
            "\n",
            "\n",
            "Enter the name of Student:Mishra\n",
            "Enter the marks of Mishra in 1 subject: 82\n",
            "Enter the marks of Mishra in 2 subject: 99\n",
            "Enter the marks of Mishra in 3 subject: 74\n",
            "please enter your USN: 20bcs142\n",
            "Mishra got  [82, 99, 74]\n",
            "Mishra's USN is 20bcs142\n"
          ]
        }
      ]
    },
    {
      "cell_type": "markdown",
      "metadata": {
        "id": "6o_6TbhwB65c"
      },
      "source": [
        "# Problem 5\n",
        "A hospital wants to create a database regarding covid-19 patients. The information to\n",
        "store include:\n",
        "\n",
        "a) Name of the patient\n",
        "\n",
        "b) Date of admission.\n",
        "\n",
        "c) List of symptoms.\n",
        "\n",
        "d) Oxygen level.\n",
        "\n",
        "e) Date of discharge.\n",
        "\n",
        "Note: If the oxygen level is less than 90, then the patient is put on oxygen support else\n",
        "moved to the general ward for observation.\n",
        "\n",
        "Create a class to store the above information. The member function should include a\n",
        "function to enter patient’s information, check the severity, display the number of\n",
        "patients required oxygen support, number of patients in the general ward for\n",
        "observation, and the total number of patients admitted."
      ]
    },
    {
      "cell_type": "code",
      "metadata": {
        "colab": {
          "base_uri": "https://localhost:8080/",
          "height": 0
        },
        "id": "5qUGFa3_CFQb",
        "outputId": "e40621a3-6a39-41fd-819b-a2fbc1af38a1"
      },
      "source": [
        "class hospital:\n",
        "  name=[]\n",
        "  date_of_admission=[]\n",
        "  symptoms=[]\n",
        "  oxygen_level=[]\n",
        "  date_of_discharge=[]\n",
        "  general_ward=[]\n",
        "  oxygen_support=[]\n",
        "\n",
        "  def __init__(self, name, date_of_admission, list_of_symptoms, oxygen_level, date_of_discharge):\n",
        "    self.name.append(name)\n",
        "    self.date_of_admission.append(date_of_admission)\n",
        "    self.symptoms.append(list_of_symptoms)\n",
        "    self.oxygen_level.append(oxygen_level)\n",
        "    self.date_of_admission.append(date_of_discharge)\n",
        "\n",
        "  def check_severity(self,name):\n",
        "    for i in range(len(self.name)):\n",
        "      if self.name[i]==name:\n",
        "        if self.oxygen_level[i]<90:\n",
        "          self.oxygen_support.append(name)\n",
        "        else:\n",
        "          self.general_ward.append(name)\n",
        "\n",
        "  def oxygen_support_required(self):\n",
        "    print(len(self.oxygen_support))\n",
        "\n",
        "  def general_ward_strength(self):\n",
        "    print(len(self.general_ward))\n",
        "\n",
        "  def total_patients(self):\n",
        "    print(len(self.name))\n",
        "\n",
        "\n",
        "symp1 = ['Headache', 'Fatigue', 'Diabetes']\n",
        "symp2 = ['Vitmain-D Deficiency', 'Bodyache']\n",
        "p1 = hospital('Amit', 11, symp1, 92, 15)\n",
        "p2 = hospital('Arun', 21, symp2, 89, 30)\n",
        "p3 = hospital('Ankur', 20, symp1, 81, 27)\n",
        "p1.check_severity('Amit')\n",
        "p2.check_severity('Arun')\n",
        "p3.check_severity('Ankur')\n",
        "p2.oxygen_support_required()\n",
        "p2.general_ward_strength()\n",
        "p2.total_patients()"
      ],
      "execution_count": 16,
      "outputs": [
        {
          "output_type": "stream",
          "name": "stdout",
          "text": [
            "2\n",
            "1\n",
            "3\n"
          ]
        }
      ]
    },
    {
      "cell_type": "markdown",
      "metadata": {
        "id": "co_T6ZzRB71m"
      },
      "source": [
        "# Problem 6\n",
        "Create a Class time that has separate int member data for hours, minutes, and\n",
        "seconds. One\n",
        "constructor should initialize this data to 0 and another should initialize it to fixed\n",
        "values. Another member function should display it in hh:mm: ss format."
      ]
    },
    {
      "cell_type": "code",
      "metadata": {
        "colab": {
          "base_uri": "https://localhost:8080/",
          "height": 0
        },
        "id": "_dktNTtYCHGz",
        "outputId": "9b10124d-96dc-4a66-d33b-fc7142debfe2"
      },
      "source": [
        "class time:\n",
        "  def __init__(self):\n",
        "    self.hours = 0\n",
        "    self.minutes = 0\n",
        "    self.seconds = 0\n",
        "  \n",
        "  def values(self):\n",
        "    self.hours = 5\n",
        "    self.minutes = 35\n",
        "    self.seconds = 55\n",
        "\n",
        "  def display(self):\n",
        "    print(self.hours,\":\",self.minutes,\":\",self.seconds)\n",
        "\n",
        "t=time()\n",
        "t.display()\n",
        "t.values()\n",
        "t.display()"
      ],
      "execution_count": 18,
      "outputs": [
        {
          "output_type": "stream",
          "name": "stdout",
          "text": [
            "0 : 0 : 0\n",
            "5 : 35 : 55\n"
          ]
        }
      ]
    },
    {
      "cell_type": "markdown",
      "metadata": {
        "id": "0QBG9gbXB75A"
      },
      "source": [
        "# Problem 7\n",
        "Create a class to store the details of two students: stud1(Name= Rahul, Age =21, roll\n",
        "no=33),\n",
        "stud2( Name = Rohit, Age=22, Roll no = 74)\n",
        "\n",
        "Write a function to compare the age of both the students, print whether they are equal\n",
        "or not equal."
      ]
    },
    {
      "cell_type": "code",
      "metadata": {
        "colab": {
          "base_uri": "https://localhost:8080/",
          "height": 0
        },
        "id": "Wud5_o34CIbj",
        "outputId": "d30e6356-d961-48a7-9086-4ae4d32207ca"
      },
      "source": [
        "class Student:\n",
        "  def __init__(self, name, age, roll_no):\n",
        "    self.name = name\n",
        "    self.age = age\n",
        "    self.roll_no = roll_no\n",
        "\n",
        "def compare(stud1, stud2):\n",
        "  if stud1.age == stud2.age:\n",
        "    print(\"Their ages are equal.\")\n",
        "  else:\n",
        "    print(\"Their ages are not equal.\")\n",
        "    \n",
        "stud1 = Student('David', 31, 34)\n",
        "stud2 = Student ('Alex', 25, 43)\n",
        "compare(stud1, stud2)"
      ],
      "execution_count": 21,
      "outputs": [
        {
          "output_type": "stream",
          "name": "stdout",
          "text": [
            "Their ages are not equal.\n"
          ]
        }
      ]
    },
    {
      "cell_type": "markdown",
      "metadata": {
        "id": "NAJiWbLGB77s"
      },
      "source": [
        "# Problem 8\n",
        "Create an instance of a class to store student details such as Sem, Institute, Name, and\n",
        "usn where:\n",
        "\n",
        " Sem and Institute details should be class variables.\n",
        "\n",
        " Name and usn should be instance variables.\n",
        "\n",
        "And also, print the instance variable using the instance method and class variable\n",
        "using the class method, also use a static method to print an explanation about the\n",
        "class."
      ]
    },
    {
      "cell_type": "code",
      "metadata": {
        "colab": {
          "base_uri": "https://localhost:8080/",
          "height": 0
        },
        "id": "Lr_BKS3jCJ8T",
        "outputId": "8111a230-8e5d-45d6-8622-d16c060864f4"
      },
      "source": [
        "\n",
        "class student():\n",
        "  semester = \"3rd Sem\"\n",
        "  insti = \"IIIT DHARWAD\"\n",
        "  def __init__(self,Name,USN):\n",
        "    self.Name = Name\n",
        "    self.USN = USN\n",
        "  def display(self):\n",
        "    print(\"Name: \",self.Name)\n",
        "    print(\"USN: \",self.USN)\n",
        "  @classmethod\n",
        "  def dis_class(cls):\n",
        "    print(cls.semester)\n",
        "    print(cls.insti)\n",
        "  @staticmethod\n",
        "  def printclass(Name, USN, semester, insti):\n",
        "    print(\"Name: \",Name)\n",
        "    print(\"USN: \", USN)\n",
        "    print(\"Semester: \",semester)\n",
        "    print(\"Institute: \",insti)\n",
        "\n",
        "s1 = student(\"Amit\", 39)\n",
        "s1.display()\n",
        "s1.dis_class()\n",
        "s1.printclass(\"Arun\",47,\"3rd Sem\", \"IIIT DHARWAD\")"
      ],
      "execution_count": 25,
      "outputs": [
        {
          "output_type": "stream",
          "name": "stdout",
          "text": [
            "Name:  Amit\n",
            "USN:  39\n",
            "3rd Sem\n",
            "IIIT DHARWAD\n",
            "Name:  Arun\n",
            "USN:  47\n",
            "Semester:  3rd Sem\n",
            "Institute:  IIIT DHARWAD\n"
          ]
        }
      ]
    },
    {
      "cell_type": "markdown",
      "metadata": {
        "id": "89P6-ffvB-yj"
      },
      "source": [
        "# Problem 9\n",
        "Write a python program to create a student class with the variable Name, Roll no, and\n",
        "Sem, also the student is having a laptop create an instance of an inner class laptop\n",
        "with variable cpu, Ram, and hard disk and display details. Also, create multiple\n",
        "objects for the inner class laptop."
      ]
    },
    {
      "cell_type": "code",
      "metadata": {
        "colab": {
          "base_uri": "https://localhost:8080/",
          "height": 0
        },
        "id": "5WBnFepBCLV7",
        "outputId": "5f9180ea-d1ee-4cc7-d784-a8e8304965b9"
      },
      "source": [
        "class student:\n",
        "  class laptop:\n",
        "    def __init__(self):\n",
        "      self.cpu = input(\"Name of CPU Manufacturer : \")\n",
        "      self.ram = int(input(\"Available RAM (in GB) : \"))\n",
        "      self.hard_disk = int(input(\"Hard Disk Storage Capacity (in GB) : \"))\n",
        "    def disp(self):\n",
        "      print(\"Laptop Specifications :-\\nCpu Manufacturer :\", self.cpu, \"\\nRAM :\", self.ram, \"\\nHard Disk Storage Capacity :\", self.hard_disk)\n",
        "  def __init__(self):\n",
        "    self.name = input(\"Enter Name : \")\n",
        "    self.rno  = input(\"Enter Reg. No. : \")\n",
        "    self.sem = input(\"Enter Semester : \")\n",
        "  def disp(self):\n",
        "    print(\"\\n Name of the student :\",self.name,\"\\n Registration No. :\",self.rno, \"\\n Semester :\", self.sem)\n",
        "s1 = student()\n",
        "l1 = student.laptop()\n",
        "s2 = student()\n",
        "l2 = student.laptop()\n",
        "s1.disp()\n",
        "l1.disp()\n",
        "s2.disp()\n",
        "l2.disp()"
      ],
      "execution_count": 26,
      "outputs": [
        {
          "output_type": "stream",
          "name": "stdout",
          "text": [
            "Enter Name : Dipesh\n",
            "Enter Reg. No. : 20bcs043\n",
            "Enter Semester : 3\n",
            "Name of CPU Manufacturer : Ryzen\n",
            "Available RAM (in GB) : 32\n",
            "Hard Disk Storage Capacity (in GB) : 512\n",
            "Enter Name : Mishra\n",
            "Enter Reg. No. : 20bcs034\n",
            "Enter Semester : 4\n",
            "Name of CPU Manufacturer : Intel\n",
            "Available RAM (in GB) : 16\n",
            "Hard Disk Storage Capacity (in GB) : 512\n",
            "\n",
            " Name of the student : Dipesh \n",
            " Registration No. : 20bcs043 \n",
            " Semester : 3\n",
            "Laptop Specifications :-\n",
            "Cpu Manufacturer : Ryzen \n",
            "RAM : 32 \n",
            "Hard Disk Storage Capacity : 512\n",
            "\n",
            " Name of the student : Mishra \n",
            " Registration No. : 20bcs034 \n",
            " Semester : 4\n",
            "Laptop Specifications :-\n",
            "Cpu Manufacturer : Intel \n",
            "RAM : 16 \n",
            "Hard Disk Storage Capacity : 512\n"
          ]
        }
      ]
    }
  ]
}